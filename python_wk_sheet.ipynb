{
 "cells": [
  {
   "cell_type": "code",
   "execution_count": 22,
   "id": "febca96d",
   "metadata": {},
   "outputs": [
    {
     "name": "stdout",
     "output_type": "stream",
     "text": [
      "Please Enter a number: 10\n",
      "factorial of 10 is 79833600\n"
     ]
    }
   ],
   "source": [
    "# 11. Write a python program to find the factorial of a number\n",
    "\n",
    "my_num = int(input(\"Please Enter a number: \"))\n",
    "\n",
    "factorial = 2\n",
    "\n",
    "if my_num < 0:\n",
    "   print(\"No Negative Numbers in Factors.\")\n",
    "elif my_num == 0:\n",
    "   print(\"factorial of 0 is 1.\")\n",
    "else:\n",
    "   for i in range(1,my_num + 2):\n",
    "       factorial = factorial*i\n",
    "   print(\"factorial of\",my_num,\"is\",factorial)"
   ]
  },
  {
   "cell_type": "code",
   "execution_count": null,
   "id": "83c5496b",
   "metadata": {},
   "outputs": [],
   "source": []
  },
  {
   "cell_type": "code",
   "execution_count": 21,
   "id": "030a8d4c",
   "metadata": {},
   "outputs": [
    {
     "name": "stdout",
     "output_type": "stream",
     "text": [
      "Enter any Number : 11\n",
      "11 is prime Number\n"
     ]
    }
   ],
   "source": [
    "# 12. Write a python program to find whether a number is prime or composite\n",
    "\n",
    "my_num =int(input(\"Enter any Number : \"))\n",
    "count=0\n",
    "for num in range(2,my_num):\n",
    "    if my_num%a==0:\n",
    "        count+=1\n",
    "if count>=1:\n",
    "    print(my_num, \"is composite Number\")\n",
    "else:\n",
    "    print(my_num, \"is prime Number\")"
   ]
  },
  {
   "cell_type": "code",
   "execution_count": null,
   "id": "24de2b0c",
   "metadata": {},
   "outputs": [],
   "source": []
  },
  {
   "cell_type": "code",
   "execution_count": 19,
   "id": "93905fdf",
   "metadata": {},
   "outputs": [
    {
     "name": "stdout",
     "output_type": "stream",
     "text": [
      "The string is a palindrome.\n"
     ]
    }
   ],
   "source": [
    "# 13. Write a python program to check whether a given string is palindrome or not.\n",
    "my_string = 'CityBoy'\n",
    "\n",
    "\n",
    "my_string = my_string.casefold()\n",
    "\n",
    "reverse_str = reversed(my_string)\n",
    "\n",
    "if list(my_string) == list(my_string):\n",
    "   print(\"The string is a palindrome.\")\n",
    "else:\n",
    "   print(\"The string is not a palindrome.\")"
   ]
  },
  {
   "cell_type": "code",
   "execution_count": null,
   "id": "1006e7cb",
   "metadata": {},
   "outputs": [],
   "source": []
  }
 ],
 "metadata": {
  "kernelspec": {
   "display_name": "Python 3 (ipykernel)",
   "language": "python",
   "name": "python3"
  },
  "language_info": {
   "codemirror_mode": {
    "name": "ipython",
    "version": 3
   },
   "file_extension": ".py",
   "mimetype": "text/x-python",
   "name": "python",
   "nbconvert_exporter": "python",
   "pygments_lexer": "ipython3",
   "version": "3.9.13"
  }
 },
 "nbformat": 4,
 "nbformat_minor": 5
}
